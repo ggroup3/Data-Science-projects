{
 "cells": [
  {
   "cell_type": "markdown",
   "metadata": {},
   "source": [
    "The Data Science Tools and Ecosystem"
   ]
  },
  {
   "cell_type": "markdown",
   "metadata": {},
   "source": [
    "In this notebook, Data Science Tools and Ecosystem are summarized.\n"
   ]
  },
  {
   "cell_type": "markdown",
   "metadata": {},
   "source": [
    "Some of the popular languages that Data Scientists use are:  \n",
    "    - Python  \n",
    "    - R  \n",
    "    - Julia   \n",
    "    - SQL  \n",
    "    - Scala  "
   ]
  },
  {
   "cell_type": "markdown",
   "metadata": {},
   "source": [
    "Some of the commonly used libraries used by Data Scientists include:  \n",
    "- NumPy  \n",
    "- Pandas   \n",
    "- Matplotlib   \n",
    "- Seaborn   \n",
    "- SciPy   \n",
    "- TensorFlow   \n",
    "- PyTorch  "
   ]
  },
  {
   "cell_type": "markdown",
   "metadata": {},
   "source": [
    "Data Science Tools:   \n",
    "\n",
    " Tool----------------|---- Description  \n",
    "   \n",
    "Jupyter Notebook---|---- Interactive coding environment    \n",
    "RStudio--------------|---- IDE for R programming   \n",
    "Apache Spark--------|---- Big data processing framework   \n",
    "TensorFlow-----------|---- Machine learning framework   \n",
    "Power BI-------------|----- Data visualization tool   "
   ]
  },
  {
   "cell_type": "markdown",
   "metadata": {},
   "source": [
    "Below are a few examples of evaluating arithmetic expressions in Python"
   ]
  },
  {
   "cell_type": "code",
   "execution_count": null,
   "metadata": {
    "vscode": {
     "languageId": "plaintext"
    }
   },
   "outputs": [],
   "source": [
    "#This a simple arithmetic expression to mutiply then add integers\n",
    "# Exercise 8 - Multiply and Add Numbers\n",
    "a = 3\n",
    "b = 4\n",
    "result = (a * b) + 5\n",
    "result"
   ]
  }
 ],
 "metadata": {
  "language_info": {
   "name": "python"
  }
 },
 "nbformat": 4,
 "nbformat_minor": 2
}
